{
  "nbformat": 4,
  "nbformat_minor": 0,
  "metadata": {
    "colab": {
      "provenance": [],
      "gpuType": "T4",
      "authorship_tag": "ABX9TyOc/GKh7p6QxCvF444eZ9Qy",
      "include_colab_link": true
    },
    "kernelspec": {
      "name": "python3",
      "display_name": "Python 3"
    },
    "language_info": {
      "name": "python"
    },
    "accelerator": "GPU"
  },
  "cells": [
    {
      "cell_type": "markdown",
      "metadata": {
        "id": "view-in-github",
        "colab_type": "text"
      },
      "source": [
        "<a href=\"https://colab.research.google.com/github/lakshchikara/Generative-AI/blob/main/Task_3_Intern.ipynb\" target=\"_parent\"><img src=\"https://colab.research.google.com/assets/colab-badge.svg\" alt=\"Open In Colab\"/></a>"
      ]
    },
    {
      "cell_type": "code",
      "execution_count": 3,
      "metadata": {
        "colab": {
          "base_uri": "https://localhost:8080/"
        },
        "id": "NBmGO2avBGsi",
        "outputId": "e185c367-5b1f-47ee-943a-317b73531749"
      },
      "outputs": [
        {
          "output_type": "stream",
          "name": "stdout",
          "text": [
            "Requirement already satisfied: markovify in /usr/local/lib/python3.11/dist-packages (0.9.4)\n",
            "Requirement already satisfied: unidecode in /usr/local/lib/python3.11/dist-packages (from markovify) (1.4.0)\n",
            "Generated Sentence:\n",
            "\n",
            "The core problems of artificial intelligence is a field of computer science that focuses on creating intelligent machines.\n",
            "\n",
            "Generated Paragraph:\n",
            "\n",
            "AI research has been divided by differences in the application domain.\n"
          ]
        }
      ],
      "source": [
        "!pip install markovify\n",
        "import markovify\n",
        "\n",
        "text = \"\"\"\n",
        "Artificial intelligence is a field of computer science that focuses on creating intelligent machines.\n",
        "It has become an essential part of the technology industry. Research associated with artificial intelligence is highly technical and specialized.\n",
        "The core problems of artificial intelligence include programming computers for certain traits such as knowledge, reasoning, problem-solving, perception, learning, planning, and the ability to manipulate and move objects.\n",
        "Approaches include statistical methods, computational intelligence, and traditional symbolic AI.\n",
        "Many tools are used in AI, including versions of search and mathematical optimization, logic, and methods based on probability and economics.\n",
        "The AI field draws upon computer science, information engineering, mathematics, psychology, linguistics, philosophy, and many others.\n",
        "The field was founded on the claim that human intelligence can be so precisely described that a machine can be made to simulate it.\n",
        "AI research has been divided into subfields that often fail to communicate with each other.\n",
        "These subfields are based on technical considerations, such as particular goals (e.g., robotics or machine learning), the use of particular tools (logic or neural networks), or deep philosophical differences.\n",
        "Subfields have also been divided by differences in the application domain.\n",
        "AI applications include advanced web search engines (e.g., Google), recommendation systems (used by YouTube, Amazon, and Netflix), understanding human speech (such as Siri and Alexa), self-driving cars (e.g., Tesla), and competing at the highest level in strategic game systems.\n",
        "\"\"\"\n",
        "\n",
        "text_model = markovify.Text(text)\n",
        "# Generate a single sentence\n",
        "print(\"Generated Sentence:\\n\")\n",
        "print(text_model.make_sentence())\n",
        "\n",
        "# Generate a paragraph\n",
        "print(\"\\nGenerated Paragraph:\\n\")\n",
        "print(text_model.make_short_sentence(200))\n"
      ]
    }
  ]
}
